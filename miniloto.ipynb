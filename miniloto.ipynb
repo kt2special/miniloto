{
 "cells": [
  {
   "cell_type": "code",
   "execution_count": 1,
   "id": "5ccce395-1d4f-4169-b6ba-d8b1cbbdb7f1",
   "metadata": {
    "tags": []
   },
   "outputs": [
    {
     "name": "stdout",
     "output_type": "stream",
     "text": [
      "今回の除外数字は\n",
      "[17, 18, 28, 7, 25, 4, 13, 29, 9, 8, 6, 15, 26, 12, 1, 12, 14, 17, 27, 28, 29, 31]\n",
      "除外して残った今回の数字は\n",
      "[2, 3, 5, 10, 11, 16, 19, 20, 21, 22, 23, 24, 30]\n"
     ]
    }
   ],
   "source": [
    "import requests\n",
    "import random\n",
    "from bs4 import BeautifulSoup\n",
    "import pandas as pd\n",
    "import time\n",
    "from selenium import webdriver\n",
    "from selenium.webdriver.common.by import By\n",
    "from selenium.webdriver.support.ui import WebDriverWait\n",
    "from selenium.webdriver.support import expected_conditions as EC\n",
    "\n",
    "#Webサイトを２つスクレイピングする\n",
    "a_driver = webdriver.Chrome()\n",
    "a_driver.get(\"https://www.mizuhobank.co.jp/retail/takarakuji/check/loto/miniloto/index.html\")\n",
    "a_wait = WebDriverWait(a_driver, 10)\n",
    "a_wait.until(EC.invisibility_of_element_located((By.CLASS_NAME,'js-now-loading')))\n",
    "a_html = a_driver.page_source.encode('utf-8')\n",
    "a_soup = BeautifulSoup(a_html,'html.parser')\n",
    "\n",
    "b_driver = webdriver.Chrome()\n",
    "b_driver.get(\"https://forincs.com/loto/miniloto_winnum.php\")\n",
    "WebDriverWait(b_driver, 10).until(EC.presence_of_all_elements_located)\n",
    "b_html = b_driver.page_source.encode('utf-8')\n",
    "b_soup = BeautifulSoup(b_html,'html.parser')\n",
    "\n",
    "#総出現回数の下から15位までの数字を消去する\n",
    "mini_numbers = b_soup.find_all('td',class_='tbd_td_p1_c right')\n",
    "mini1 = mini_numbers[::3]\n",
    "mini2= mini1[-15:]\n",
    "mini3 = mini2[0]\n",
    "mini3 = mini3.text.replace('\\n','')\n",
    "removeloto5 = []\n",
    "for mini3 in mini2:\n",
    "    removeloto5.append(int(mini3.text))\n",
    "    \n",
    "#前回の当選数字を消去し配列からランダムで結果を表示する\n",
    "numbers = a_soup.find_all('strong',class_='js-lottery-number-pc')[0:5]\n",
    "bnumber = a_soup.find('dd',class_='js-lottery-bonus-sp')\n",
    "number = numbers[0]\n",
    "loto5 = list(range(1,32))\n",
    "for number in numbers:\n",
    "    removeloto5.append(int(number.text))\n",
    "    \n",
    "removeloto5.append(int(bnumber.text))\n",
    "\n",
    "#その他に除外したい数字があれば入力する\n",
    "removeloto5.extend([31])\n",
    "\n",
    "print('今回の除外数字は')\n",
    "print(removeloto5)\n",
    "remained_loto5 = [i for i in loto5 if i not in removeloto5]\n",
    "\n",
    "print('除外して残った今回の数字は')\n",
    "print(remained_loto5)"
   ]
  },
  {
   "cell_type": "code",
   "execution_count": 2,
   "id": "110e9738-2044-43ce-b1a3-19c022970513",
   "metadata": {},
   "outputs": [
    {
     "name": "stdout",
     "output_type": "stream",
     "text": [
      "今回のミニロトの予想結果は\n",
      "[23, 2, 19, 5, 16]\n"
     ]
    }
   ],
   "source": [
    "#シャッフルして選択された数字に連続数字が含まれているならまたシャッフルする\n",
    "resultloto5 = random.sample(remained_loto5 ,5)\n",
    "resultloto5 = random.sample(remained_loto5 ,5)\n",
    "resultloto5 = random.sample(remained_loto5 ,5)\n",
    "a=resultloto5[0]\n",
    "b=resultloto5[1]\n",
    "c=resultloto5[2]\n",
    "d=resultloto5[3]\n",
    "e=resultloto5[4]\n",
    "i=0\n",
    "while i==0:\n",
    "    if (a==b+1 or a==c+1 or a==d+1 or a==e+1 or\n",
    "        b==a+1 or b==c+1 or b==d+1 or b==e+1 or\n",
    "        c==a+1 or c==b+1 or c==d+1 or c==e+1 or\n",
    "        d==a+1 or d==b+1 or d==c+1 or d==e+1 or\n",
    "        e==a+1 or e==b+1 or e==c+1 or e==d+1):\n",
    "        resultloto5 = random.sample(remained_loto5 ,5)\n",
    "        a=resultloto5[0]\n",
    "        b=resultloto5[1]\n",
    "        c=resultloto5[2]\n",
    "        d=resultloto5[3]\n",
    "        e=resultloto5[4]\n",
    "    else:\n",
    "        break\n",
    "        \n",
    "print(\"今回のミニロトの予想結果は\")\n",
    "print(resultloto5)"
   ]
  },
  {
   "cell_type": "code",
   "execution_count": null,
   "id": "9a180b2c-1f1d-4c43-a71e-aa34223a6b07",
   "metadata": {},
   "outputs": [],
   "source": []
  }
 ],
 "metadata": {
  "kernelspec": {
   "display_name": "Python 3 (ipykernel)",
   "language": "python",
   "name": "python3"
  },
  "language_info": {
   "codemirror_mode": {
    "name": "ipython",
    "version": 3
   },
   "file_extension": ".py",
   "mimetype": "text/x-python",
   "name": "python",
   "nbconvert_exporter": "python",
   "pygments_lexer": "ipython3",
   "version": "3.10.8"
  }
 },
 "nbformat": 4,
 "nbformat_minor": 5
}
